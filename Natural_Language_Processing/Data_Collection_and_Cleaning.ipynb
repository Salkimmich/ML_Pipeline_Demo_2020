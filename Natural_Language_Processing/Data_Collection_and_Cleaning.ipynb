{
 "cells": [
  {
   "cell_type": "code",
   "execution_count": 1,
   "metadata": {
    "colab": {
     "base_uri": "https://localhost:8080/",
     "height": 54
    },
    "colab_type": "code",
    "id": "oAdFpHsgcjhH",
    "outputId": "97d7a118-7b1f-4c58-bfcb-3cdd413996b9"
   },
   "outputs": [
    {
     "name": "stdout",
     "output_type": "stream",
     "text": [
      "Drive already mounted at /content/drive; to attempt to forcibly remount, call drive.mount(\"/content/drive\", force_remount=True).\n"
     ]
    }
   ],
   "source": [
    "from google.colab import drive\n",
    "drive.mount('/content/drive')"
   ]
  },
  {
   "cell_type": "markdown",
   "metadata": {
    "colab_type": "text",
    "id": "0G8FaenI-8Sb"
   },
   "source": [
    "## Research Question: Airbnb Prices in NYC \n",
    "NYC is a very diverse area known for its 5 boroughs. These boroughs vary drastically in terms of people, culture, and income. Does Airbnb display these variations through its listings as well? Do prices change from borough to borough and how significant are these changes? Can we also accurately predict prices and make suggestions for houses just like Airbnb does? We will see below in our Data 301 Final Project which is broken up into 3 parts: EDA, Machine Learning, and Final Conclusion. "
   ]
  },
  {
   "cell_type": "markdown",
   "metadata": {
    "colab_type": "text",
    "id": "aUFOTMSK9En9"
   },
   "source": [
    "## Imports for Data Collection"
   ]
  },
  {
   "cell_type": "code",
   "execution_count": 0,
   "metadata": {
    "colab": {},
    "colab_type": "code",
    "id": "tt5b4jv5cpAA"
   },
   "outputs": [],
   "source": [
    "import pandas as pd\n",
    "import numpy as np\n",
    "import sys\n",
    "sys.setrecursionlimit(10000000)\n",
    "import json\n",
    "from pandas.io.json import json_normalize\n",
    "import sklearn \n",
    "import warnings # the below imports were to stop displaying warnings for aesthetic appeal\n",
    "from pandas.core.common import SettingWithCopyWarning\n",
    "warnings.simplefilter(action=\"ignore\", category=SettingWithCopyWarning) "
   ]
  },
  {
   "cell_type": "markdown",
   "metadata": {
    "colab_type": "text",
    "id": "lxckLluI-WkC"
   },
   "source": [
    "# About Our Data: "
   ]
  },
  {
   "cell_type": "markdown",
   "metadata": {
    "colab_type": "text",
    "id": "LpFoh6OF-jf1"
   },
   "source": [
    "1.   Our Main CSV File for 50,000 Listings: Inside Airbnb, http://insideairbnb.com/ , a website which holds publically available information about Airbnb's all over the world --> csv file\n",
    "2.   Our JSON File for NY Subways: NYC Open Data, https://opendata.cityofnewyork.us/, lots of geospatial data for making maps and locating subways. We used this to get information about subways --> json file\n",
    "3. A PNG Image for Our Map\n",
    "4. A CSV file to map neighborhood to borough"
   ]
  },
  {
   "cell_type": "markdown",
   "metadata": {
    "colab_type": "text",
    "id": "KiKqDw0ZAEHp"
   },
   "source": [
    "# Cleaning Our Data: "
   ]
  },
  {
   "cell_type": "markdown",
   "metadata": {
    "colab_type": "text",
    "id": "wDHYVwuj--9I"
   },
   "source": [
    "Reading in Our Main CSV File"
   ]
  },
  {
   "cell_type": "code",
   "execution_count": 3,
   "metadata": {
    "colab": {
     "base_uri": "https://localhost:8080/",
     "height": 71
    },
    "colab_type": "code",
    "id": "QLT9-3DUcrPy",
    "outputId": "2ae1831d-c3c6-4e10-a390-e4845934ecb5"
   },
   "outputs": [
    {
     "name": "stderr",
     "output_type": "stream",
     "text": [
      "/usr/local/lib/python3.6/dist-packages/IPython/core/interactiveshell.py:2718: DtypeWarning: Columns (61,62,94,95) have mixed types. Specify dtype option on import or set low_memory=False.\n",
      "  interactivity=interactivity, compiler=compiler, result=result)\n"
     ]
    }
   ],
   "source": [
    "df_bnb = pd.read_csv(\"listings.csv\", error_bad_lines=False, encoding = \"utf8\")"
   ]
  },
  {
   "cell_type": "markdown",
   "metadata": {
    "colab_type": "text",
    "id": "Olsu30Gt_Ere"
   },
   "source": [
    "Filtering the variables we think are important"
   ]
  },
  {
   "cell_type": "code",
   "execution_count": 0,
   "metadata": {
    "colab": {},
    "colab_type": "code",
    "id": "Xwlu82FVcvtV"
   },
   "outputs": [],
   "source": [
    "df = df_bnb.filter([\"id\", \"name\", \"summary\", \"space\", \"description\", \"host_id\", \"host_response_rate\",\n",
    "                     \"host_is_superhost\", \"street\", \"neighbourhood\", \"city\", \"latitude\", \"longitude\", \n",
    "                     \"property_type\", \"room_type\", \"bathrooms\", \"bedrooms\", \"beds\", \"bed_type\", \"amenities\", \n",
    "                     \"square_feet\", \"price\", \"cleaning_fee\", \"number_of_reviews\", \"review_scores_rating\"]) "
   ]
  },
  {
   "cell_type": "markdown",
   "metadata": {
    "colab_type": "text",
    "id": "Gq0RMErj_J1l"
   },
   "source": [
    "Price, our main prediction variable, is a string. We need to filter out bad data which did not start with a dollar sign. For example, some prices were read in accidentally as Neighborhood. We also needed to remove the \"$\" and \".00\""
   ]
  },
  {
   "cell_type": "code",
   "execution_count": 0,
   "metadata": {
    "colab": {},
    "colab_type": "code",
    "id": "JUBdhQ_rczog"
   },
   "outputs": [],
   "source": [
    "df = df[df.price.str.startswith(\"$\", na=False) == True]\n",
    "df[\"price\"] # price is a string, need to remove the dollar sign\n",
    "df[\"price_int\"] = df[\"price\"].str.replace(\"$\", \"\").str.replace(\",\", \"\").astype(float)"
   ]
  },
  {
   "cell_type": "markdown",
   "metadata": {
    "colab_type": "text",
    "id": "KMh6KEpO_h6D"
   },
   "source": [
    "Our data had 200 neighborhoods but we wanted to categorize our data into 5 boroughs. We did this by joining another dataset as mentioned above."
   ]
  },
  {
   "cell_type": "code",
   "execution_count": 0,
   "metadata": {
    "colab": {},
    "colab_type": "code",
    "id": "G8Ag8Y0ec0TY"
   },
   "outputs": [],
   "source": [
    "joined = pd.read_csv(\"neighbourhoods.csv\")  # another CSV file to join on \n",
    "df = df.merge(joined, on=[\"neighbourhood\"])\n",
    "df = df.rename(columns={\"neighbourhood_group\": \"boroughs\"}) # renaming the column"
   ]
  },
  {
   "cell_type": "markdown",
   "metadata": {
    "colab_type": "text",
    "id": "9NSjdy6d_yVF"
   },
   "source": [
    "We found listings to be less than 50 dollars a night and some listings to be over 10,000 dollars a night. This threw off our data so we created a new dataframe, df2, which limited the \"price\" variable to a certain range"
   ]
  },
  {
   "cell_type": "code",
   "execution_count": 0,
   "metadata": {
    "colab": {},
    "colab_type": "code",
    "id": "3-qGHozQc8Mq"
   },
   "outputs": [],
   "source": [
    "df2 = df[df.price_int < 650]\n",
    "df2 = df2[df2.price_int > 50]"
   ]
  },
  {
   "cell_type": "markdown",
   "metadata": {
    "colab_type": "text",
    "id": "C5cwMOlUAb2W"
   },
   "source": [
    "The longitude and latitude were also objects and not floats. We had to change that as well"
   ]
  },
  {
   "cell_type": "code",
   "execution_count": 0,
   "metadata": {
    "colab": {},
    "colab_type": "code",
    "id": "ATINXOIBdDIq"
   },
   "outputs": [],
   "source": [
    "df2[\"latitude_int\"] = df2[\"latitude\"].astype(float)\n",
    "df2[\"longitude_int\"] = df2[\"longitude\"].astype(float)"
   ]
  },
  {
   "cell_type": "markdown",
   "metadata": {
    "colab_type": "text",
    "id": "nctR-TK4AoL8"
   },
   "source": [
    "We wanted to plot subway stations in NYC as well so we got this data through a JSON file as mentioned above. The DataFrame we created through our JSON file had latitude and longitudes in 1 column as Point(X, Y). So we needed to manually extract that to create 2 columns with just X, Y."
   ]
  },
  {
   "cell_type": "code",
   "execution_count": 0,
   "metadata": {
    "colab": {},
    "colab_type": "code",
    "id": "npTF3OYbdHBU"
   },
   "outputs": [],
   "source": [
    "subways = json.load(open('ny_subways.json'))\n",
    "df_json_subway = json_normalize(subways, \"data\")\n",
    "df_subway = pd.DataFrame()\n",
    "df_subway = df_json_subway[11].str.split().apply(pd.Series) \n",
    "df_subway[\"longitude\"] = df_subway[1].str.replace(\"(\", \"\") \n",
    "df_subway[\"latitude\"] = df_subway[2].str.replace(\")\", \"\")\n",
    "del df_subway[0], df_subway[1], df_subway[2] #deleting unecessary columns \n",
    "df_subway[\"latitude_int\"] = df_subway[\"latitude\"].astype(float) \n",
    "df_subway[\"longitude_int\"] = df_subway[\"longitude\"].astype(float)"
   ]
  },
  {
   "cell_type": "markdown",
   "metadata": {
    "colab_type": "text",
    "id": "_yWotSpUBK1S"
   },
   "source": [
    "Now, just filling in our missing values with 0 if it was an int, \"other\" if it was a string."
   ]
  },
  {
   "cell_type": "code",
   "execution_count": 0,
   "metadata": {
    "colab": {},
    "colab_type": "code",
    "id": "LMtmGzF2dKij"
   },
   "outputs": [],
   "source": [
    "df2[\"host_response_rate\"].fillna(0, inplace = True)\n",
    "df2[\"property_type\"].fillna(\"other\", inplace = True)\n",
    "df2[\"room_type\"].fillna(\"other\", inplace = True)\n",
    "df2[\"bathrooms\"].fillna(0, inplace = True)\n",
    "df2[\"bedrooms\"].fillna(0, inplace = True)\n",
    "df2[\"beds\"].fillna(0, inplace = True)\n",
    "df2[\"bed_type\"].fillna(\"other\", inplace = True)\n",
    "df2[\"square_feet\"].fillna(0, inplace = True)\n",
    "df2[\"cleaning_fee\"].fillna(0, inplace = True)\n",
    "df2[\"price\"].fillna(0, inplace = True)\n",
    "df2[\"number_of_reviews\"].fillna(0, inplace = True)\n",
    "df2[\"review_scores_rating\"].fillna(0, inplace = True)\n",
    "df2[\"boroughs\"].fillna(\"other\", inplace = True)"
   ]
  },
  {
   "cell_type": "code",
   "execution_count": 0,
   "metadata": {
    "colab": {},
    "colab_type": "code",
    "id": "8ZfxlGm7dLXL"
   },
   "outputs": [],
   "source": [
    "df = df[df.cleaning_fee.str.startswith(\"$\", na=False) == True]\n",
    "df2[\"cleaning_fee_int\"] = df[\"cleaning_fee\"].str.replace(\"$\", \"\").str.replace(\",\", \"\").astype(float)\n",
    "df2[\"cleaning_fee_int\"].fillna(0, inplace = True)\n",
    "df2[\"price_int\"].fillna(0, inplace = True)\n",
    "df2[\"host_response_rate_int\"] = df[\"host_response_rate\"].str.replace(\"%\", \"\").str.replace(\",\", \"\").astype(float)\n",
    "df2[\"host_response_rate_int\"].fillna(0, inplace = True)"
   ]
  }
 ],
 "metadata": {
  "colab": {
   "name": "Data Collection and Cleaning",
   "provenance": []
  },
  "kernelspec": {
   "display_name": "Python 3",
   "language": "python",
   "name": "python3"
  },
  "language_info": {
   "codemirror_mode": {
    "name": "ipython",
    "version": 3
   },
   "file_extension": ".py",
   "mimetype": "text/x-python",
   "name": "python",
   "nbconvert_exporter": "python",
   "pygments_lexer": "ipython3",
   "version": "3.7.7"
  }
 },
 "nbformat": 4,
 "nbformat_minor": 1
}
